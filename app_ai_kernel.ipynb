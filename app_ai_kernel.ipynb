{
 "cells": [
  {
   "cell_type": "code",
   "execution_count": 24,
   "id": "4e18552c",
   "metadata": {},
   "outputs": [],
   "source": [
    "from torchvision import transforms\n",
    "from PIL import Image\n",
    "import torch\n",
    "from ultralytics import YOLO"
   ]
  },
  {
   "cell_type": "code",
   "execution_count": 2,
   "id": "88fe415c",
   "metadata": {},
   "outputs": [],
   "source": [
    "model2 = YOLO('/home/ivan/university/maga/hakatons/27-29_10_23/guns_searcher/best.pt')\n",
    "model_vgg = torch.load('/home/ivan/university/maga/hakatons/27-29_10_23/guns_searcher/model.pth')"
   ]
  },
  {
   "cell_type": "code",
   "execution_count": 3,
   "id": "4101334e",
   "metadata": {},
   "outputs": [],
   "source": [
    "transform = transforms.Compose(\n",
    "    [\n",
    "        transforms.ToTensor(),\n",
    "        transforms.Resize(224),\n",
    "        transforms.CenterCrop(224),\n",
    "        \n",
    "    ]\n",
    ")"
   ]
  },
  {
   "cell_type": "code",
   "execution_count": 4,
   "id": "f8f002b4",
   "metadata": {},
   "outputs": [],
   "source": [
    "dict_class = {0:'another',1:'long_weapons',2:'short_weapons'}"
   ]
  },
  {
   "cell_type": "code",
   "execution_count": 61,
   "id": "585e2b11",
   "metadata": {},
   "outputs": [
    {
     "name": "stderr",
     "output_type": "stream",
     "text": [
      "\n",
      "0: 448x640 2 man_with_weapons, 2 weapons, 116.4ms\n",
      "Speed: 12.8ms preprocess, 116.4ms inference, 0.6ms postprocess per image at shape (1, 3, 448, 640)\n"
     ]
    }
   ],
   "source": [
    "results = model2(['/home/ivan/university/maga/hakatons/27-29_10_23/dataset/размеченные/1.jpg'])"
   ]
  },
  {
   "cell_type": "code",
   "execution_count": 62,
   "id": "f145f5f5",
   "metadata": {},
   "outputs": [
    {
     "name": "stdout",
     "output_type": "stream",
     "text": [
      "long_weapons\n",
      "0 tensor([4]) tensor([4., 0., 2., 0.])\n",
      "long_weapons\n",
      "2 tensor([4]) tensor([4., 0., 4., 0.])\n"
     ]
    }
   ],
   "source": [
    "for r in results:\n",
    "    r.names = {0: 'man_with_weapon', 1: 'man_without_weapon', 2: 'weapon',\n",
    "                     3:'another',4:'long_weapons',5:'short_weapons'}\n",
    "    img = Image.fromarray(r.orig_img[..., ::-1])\n",
    "    \n",
    "    for i,bord in enumerate(r.boxes):\n",
    "        if bord.cls == 'weapon' or bord.cls == 2:\n",
    "            \n",
    "            data = transform(img.crop((\n",
    "                             bord.xyxy[0][0].item(),\n",
    "                             bord.xyxy[0][1].item(),\n",
    "                             bord.xyxy[0][2].item(),\n",
    "                             bord.xyxy[0][3].item()\n",
    "                           )))\n",
    "            data = torch.reshape(data,(1,*data.shape))\n",
    "            result = model_vgg(data)\n",
    "            label = str(dict_class[torch.max(result.data,1).indices.item()])\n",
    "            print(label)\n",
    "            try:\n",
    "                r.boxes.cls[i]=3+torch.max(result.data,1).indices\n",
    "            except RuntimeError:\n",
    "                print(i,3+torch.max(result.data,1).indices, r.boxes.cls)\n",
    "            \n",
    "    \n",
    "    im_array = r.plot()  # plot a BGR numpy array of predictions\n",
    "    im = Image.fromarray(im_array[..., ::-1])\n",
    "    im.show()# show image\n",
    "    #im.save('results.jpg')  # save image\n",
    "    "
   ]
  }
 ],
 "metadata": {
  "kernelspec": {
   "display_name": "Python 3 (ipykernel)",
   "language": "python",
   "name": "python3"
  },
  "language_info": {
   "codemirror_mode": {
    "name": "ipython",
    "version": 3
   },
   "file_extension": ".py",
   "mimetype": "text/x-python",
   "name": "python",
   "nbconvert_exporter": "python",
   "pygments_lexer": "ipython3",
   "version": "3.9.13"
  }
 },
 "nbformat": 4,
 "nbformat_minor": 5
}
