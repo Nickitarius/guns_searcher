{
 "cells": [
  {
   "cell_type": "code",
   "execution_count": 50,
   "id": "4e18552c",
   "metadata": {},
   "outputs": [],
   "source": [
    "from torchvision import transforms\n",
    "from PIL import Image\n",
    "import torch\n",
    "from ultralytics import YOLO"
   ]
  },
  {
   "cell_type": "code",
   "execution_count": 51,
   "id": "88fe415c",
   "metadata": {},
   "outputs": [],
   "source": [
    "model2 = YOLO('./best.pt')\n",
    "model_vgg = torch.load('./model.pth')"
   ]
  },
  {
   "cell_type": "code",
   "execution_count": 52,
   "id": "4101334e",
   "metadata": {},
   "outputs": [],
   "source": [
    "transform = transforms.Compose(\n",
    "    [\n",
    "        transforms.ToTensor(),\n",
    "        transforms.Resize(224),\n",
    "        transforms.CenterCrop(224),\n",
    "        \n",
    "    ]\n",
    ")"
   ]
  },
  {
   "cell_type": "code",
   "execution_count": 53,
   "id": "f8f002b4",
   "metadata": {},
   "outputs": [],
   "source": [
    "dict_class = {1:'short_weapons',0:'long_weapons',2:'other'}"
   ]
  },
  {
   "cell_type": "code",
   "execution_count": 54,
   "id": "585e2b11",
   "metadata": {},
   "outputs": [
    {
     "name": "stdout",
     "output_type": "stream",
     "text": [
      "\n",
      "0: 640x512 2 man_with_weapons, 1 man_without_weapon, 3 weapons, 81.7ms\n",
      "Speed: 3.0ms preprocess, 81.7ms inference, 1.0ms postprocess per image at shape (1, 3, 640, 512)\n"
     ]
    }
   ],
   "source": [
    "# results = model2(['./Armed Person Recognition.v2i.yolov8 2/train/images/123_jpg.rf.a532578df87d5f316fcc36b8f0512564.jpg'])\n",
    "results = model2([r'E:\\Downloads\\Nelson11.jpg'])"
   ]
  },
  {
   "cell_type": "code",
   "execution_count": 55,
   "id": "f145f5f5",
   "metadata": {},
   "outputs": [
    {
     "name": "stdout",
     "output_type": "stream",
     "text": [
      "long_weapons\n",
      "2 tensor([3]) tensor([2., 2., 3., 2., 1., 0.], device='cuda:0')\n",
      "short_weapons\n",
      "5 tensor([5]) tensor([2., 2., 3., 2., 1., 5.], device='cuda:0')\n"
     ]
    }
   ],
   "source": [
    "for r in results:\n",
    "    r.names = {2: 'man_with_weapon', 1: 'man_without_weapon', 0: 'weapon',\n",
    "               3: 'long_weapons', 4: 'short_weapons', 5: 'other'}\n",
    "    img = Image.fromarray(r.orig_img[..., ::-1])\n",
    "\n",
    "    for i, bord in enumerate(r.boxes):\n",
    "        if bord.cls == 'weapon' or bord.cls == 0:\n",
    "\n",
    "            data = transform(img.crop((\n",
    "                             bord.xyxy[0][0].item(),\n",
    "                             bord.xyxy[0][1].item(),\n",
    "                             bord.xyxy[0][2].item(),\n",
    "                             bord.xyxy[0][3].item()\n",
    "                             )))\n",
    "            data = torch.reshape(data, (1, *data.shape))\n",
    "            result = model_vgg(data)\n",
    "            label = str(dict_class[torch.max(result.data, 1).indices.item()])\n",
    "            print(label)\n",
    "            try:\n",
    "                r.boxes.cls[i] = 3+torch.max(result.data, 1).indices\n",
    "            except RuntimeError:\n",
    "                print(i, 3+torch.max(result.data, 1).indices, r.boxes.cls)\n",
    "\n",
    "    im_array = r.plot()  # plot a BGR numpy array of predictions\n",
    "    im = Image.fromarray(im_array[..., ::-1])\n",
    "    im.show()  # show image\n",
    "    # im.save('results.jpg')  # save image"
   ]
  }
 ],
 "metadata": {
  "kernelspec": {
   "display_name": "Python 3 (ipykernel)",
   "language": "python",
   "name": "python3"
  },
  "language_info": {
   "codemirror_mode": {
    "name": "ipython",
    "version": 3
   },
   "file_extension": ".py",
   "mimetype": "text/x-python",
   "name": "python",
   "nbconvert_exporter": "python",
   "pygments_lexer": "ipython3",
   "version": "3.11.7"
  }
 },
 "nbformat": 4,
 "nbformat_minor": 5
}
