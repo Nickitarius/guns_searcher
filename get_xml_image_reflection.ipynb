{
 "cells": [
  {
   "cell_type": "code",
   "execution_count": 1,
   "id": "0c9f79c5",
   "metadata": {},
   "outputs": [],
   "source": [
    "import xml.etree.ElementTree as ET\n",
    "import cv2"
   ]
  },
  {
   "cell_type": "code",
   "execution_count": 2,
   "id": "049ee1ca",
   "metadata": {},
   "outputs": [],
   "source": [
    "import PIL \n",
    "from PIL import Image,ImageDraw\n",
    "import matplotlib.pyplot as plt\n",
    "import re"
   ]
  },
  {
   "cell_type": "code",
   "execution_count": 3,
   "id": "e5bd865b",
   "metadata": {},
   "outputs": [],
   "source": [
    "def take_revers(img_path,num):\n",
    "    xml_path = img_path[:-3]+'xml'\n",
    "    tree = ET.parse(xml_path)\n",
    "    root = tree.getroot()\n",
    "    size = root.find('size')\n",
    "    \n",
    "    height = int(size.find('height').text)\n",
    "    width = int(size.find('width').text)\n",
    "    objects = root.findall('object')\n",
    "    box_arr1 = []\n",
    "    box_arr2 = []\n",
    "\n",
    "    for obj in objects:\n",
    "        box = obj.find('bndbox')\n",
    "        box_arr1.append([int(box.find('xmin').text),\n",
    "                         int(box.find('ymin').text),\n",
    "         int(box.find('xmax').text),\n",
    "         int(box.find('ymax').text)])\n",
    "        width_arr = [box.find('xmin'),\n",
    "         box.find('xmax')]\n",
    "        height_arr = [box.find('ymin'),\n",
    "         box.find('ymax')]\n",
    "\n",
    "        for i in range(2):\n",
    "            width_arr[i].text = str(width-int(width_arr[i].text))\n",
    "        param = width_arr[0].text\n",
    "        print(param)\n",
    "        width_arr[0].text=width_arr[1].text\n",
    "        print (param)\n",
    "        width_arr[1].text = param\n",
    "        box_arr2.append([int(box.find('xmin').text),\n",
    "                         int(box.find('ymin').text),\n",
    "         int(box.find('xmax').text),\n",
    "         int(box.find('ymax').text)])\n",
    "    \n",
    "    p = re.search(r'\\d+\\.',img_path)\n",
    "    root.find('filename').text = str(num+int(img_path[p.span()[0]:p.span()[1]-1]))+'.jpg'\n",
    "    tree.write(img_path[:p.span()[0]]+str(num+int(img_path[p.span()[0]:p.span()[1]-1]))+'.xml')\n",
    "    \n",
    "    \n",
    "    im = Image.open(img_path) #\n",
    "    out = im.transpose(PIL.Image.FLIP_LEFT_RIGHT) \n",
    "    out.save(img_path[:p.span()[0]]+str(num+int(img_path[p.span()[0]:p.span()[1]-1]))+'.jpg')"
   ]
  },
  {
   "cell_type": "code",
   "execution_count": null,
   "id": "0e7d8150",
   "metadata": {},
   "outputs": [],
   "source": [
    "path = '/home/ivan/university/maga/hakatons/dataset/размеченные/'\n",
    "num=51\n",
    "for i in range(47,num):\n",
    "    img_path = path+str(i+1)+'.jpg'\n",
    "    print (img_path)\n",
    "    take_revers(img_path,num)"
   ]
  }
 ],
 "metadata": {
  "kernelspec": {
   "display_name": "Python 3 (ipykernel)",
   "language": "python",
   "name": "python3"
  },
  "language_info": {
   "codemirror_mode": {
    "name": "ipython",
    "version": 3
   },
   "file_extension": ".py",
   "mimetype": "text/x-python",
   "name": "python",
   "nbconvert_exporter": "python",
   "pygments_lexer": "ipython3",
   "version": "3.9.13"
  }
 },
 "nbformat": 4,
 "nbformat_minor": 5
}
